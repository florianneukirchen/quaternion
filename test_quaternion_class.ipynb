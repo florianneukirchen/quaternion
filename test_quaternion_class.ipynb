{
 "cells": [
  {
   "cell_type": "markdown",
   "id": "ddc9d0ef",
   "metadata": {},
   "source": [
    "# Quaternions als Klasse testen"
   ]
  },
  {
   "cell_type": "code",
   "execution_count": 1,
   "id": "0f8b8ec6",
   "metadata": {},
   "outputs": [],
   "source": [
    "import numpy as np\n",
    "from quaternion import Quaternion"
   ]
  },
  {
   "cell_type": "code",
   "execution_count": 2,
   "id": "f1726e7a",
   "metadata": {},
   "outputs": [
    {
     "data": {
      "text/plain": [
       "Quaternion(0.0 i + 0.2070552360820166 j + 0.15529142706151244 k + 0.9659258262890683)"
      ]
     },
     "execution_count": 2,
     "metadata": {},
     "output_type": "execute_result"
    }
   ],
   "source": [
    "q1 = Quaternion.from_axis(30,[0,0.8,0.6])\n",
    "q1"
   ]
  },
  {
   "cell_type": "code",
   "execution_count": 3,
   "id": "9f61b792",
   "metadata": {},
   "outputs": [
    {
     "data": {
      "text/plain": [
       "array([0.        , 0.20705524, 0.15529143, 0.96592583])"
      ]
     },
     "execution_count": 3,
     "metadata": {},
     "output_type": "execute_result"
    }
   ],
   "source": [
    "q1.array "
   ]
  },
  {
   "cell_type": "code",
   "execution_count": 4,
   "id": "0f094049",
   "metadata": {},
   "outputs": [
    {
     "name": "stdout",
     "output_type": "stream",
     "text": [
      "[0.         0.20705524 0.15529143]\n",
      "0.9659258262890683\n"
     ]
    }
   ],
   "source": [
    "print(q1.vector) \n",
    "print(q1.scalar)"
   ]
  },
  {
   "cell_type": "code",
   "execution_count": 5,
   "id": "882cfdd6",
   "metadata": {},
   "outputs": [
    {
     "data": {
      "text/plain": [
       "Quaternion(0.0 i + 0.0 j + 0.3826834323650898 k + 0.9238795325112867)"
      ]
     },
     "execution_count": 5,
     "metadata": {},
     "output_type": "execute_result"
    }
   ],
   "source": [
    "q2 = Quaternion.from_axis(45,[0,0,1])\n",
    "q2"
   ]
  },
  {
   "cell_type": "markdown",
   "id": "7ffdc5cc",
   "metadata": {},
   "source": [
    "## Multiplikation"
   ]
  },
  {
   "cell_type": "markdown",
   "id": "4ef01fbb",
   "metadata": {},
   "source": [
    "Ich komme bei Multiplikation auf das gleiche Ergebnis wie SciPy (siehe unten), bei Ihnen ist bei `QT.Q_mult(q2,q1)` die zweite Zahl im Ergebnisarray -0.079 statt +0.079."
   ]
  },
  {
   "cell_type": "code",
   "execution_count": 6,
   "id": "4f278770",
   "metadata": {},
   "outputs": [
    {
     "data": {
      "text/plain": [
       "Quaternion(0.0792366084330301 i + 0.1912940947154676 j + 0.5131143816509868 k + 0.8329716445077503)"
      ]
     },
     "execution_count": 6,
     "metadata": {},
     "output_type": "execute_result"
    }
   ],
   "source": [
    "q3 = q1 * q2\n",
    "q3"
   ]
  },
  {
   "cell_type": "markdown",
   "id": "0b7d9b82",
   "metadata": {},
   "source": [
    "Wird intern gerechnet als dot product:"
   ]
  },
  {
   "cell_type": "code",
   "execution_count": 7,
   "id": "dedcc8ec",
   "metadata": {},
   "outputs": [
    {
     "data": {
      "text/plain": [
       "array([0.07923661, 0.19129409, 0.51311438, 0.83297164])"
      ]
     },
     "execution_count": 7,
     "metadata": {},
     "output_type": "execute_result"
    }
   ],
   "source": [
    "q1.as_Q() @ q2.array"
   ]
  },
  {
   "cell_type": "code",
   "execution_count": 8,
   "id": "e35a01f8",
   "metadata": {},
   "outputs": [],
   "source": [
    "i = Quaternion(np.array([1,0,0,0]))\n",
    "j = Quaternion(np.array([0,1,0,0]))\n",
    "k = Quaternion(np.array([0,0,1,0]))"
   ]
  },
  {
   "cell_type": "code",
   "execution_count": 9,
   "id": "f9e8b414",
   "metadata": {},
   "outputs": [
    {
     "data": {
      "text/plain": [
       "Quaternion(0.0 i + 0.0 j + 0.0 k + -1.0)"
      ]
     },
     "execution_count": 9,
     "metadata": {},
     "output_type": "execute_result"
    }
   ],
   "source": [
    "i * i # -1"
   ]
  },
  {
   "cell_type": "code",
   "execution_count": 10,
   "id": "88a81f0c",
   "metadata": {},
   "outputs": [
    {
     "data": {
      "text/plain": [
       "Quaternion(0.0 i + 0.0 j + 1.0 k + 0.0)"
      ]
     },
     "execution_count": 10,
     "metadata": {},
     "output_type": "execute_result"
    }
   ],
   "source": [
    "i * j # k"
   ]
  },
  {
   "cell_type": "code",
   "execution_count": 11,
   "id": "74fd7edb",
   "metadata": {},
   "outputs": [
    {
     "data": {
      "text/plain": [
       "Quaternion(0.0 i + 0.0 j + 0.0 k + -1.0)"
      ]
     },
     "execution_count": 11,
     "metadata": {},
     "output_type": "execute_result"
    }
   ],
   "source": [
    "i * j * k # -1"
   ]
  },
  {
   "cell_type": "markdown",
   "id": "e6c20738",
   "metadata": {},
   "source": [
    "## Rotation"
   ]
  },
  {
   "cell_type": "code",
   "execution_count": 12,
   "id": "37cad95f",
   "metadata": {},
   "outputs": [
    {
     "data": {
      "text/plain": [
       "Quaternion(1.0 i + 2.0 j + 3.0 k + 0.0)"
      ]
     },
     "execution_count": 12,
     "metadata": {},
     "output_type": "execute_result"
    }
   ],
   "source": [
    "point = [1,2,3]\n",
    "\n",
    "p = Quaternion.from_point(point)\n",
    "p"
   ]
  },
  {
   "cell_type": "markdown",
   "id": "aaed00f8",
   "metadata": {},
   "source": [
    "Rotation: (gleiches Ergebnis wie unten mit Scipy)"
   ]
  },
  {
   "cell_type": "code",
   "execution_count": 13,
   "id": "406ba17c",
   "metadata": {},
   "outputs": [
    {
     "data": {
      "text/plain": [
       "array([1.4660254 , 2.39646171, 2.47138439])"
      ]
     },
     "execution_count": 13,
     "metadata": {},
     "output_type": "execute_result"
    }
   ],
   "source": [
    "p2 = q1 * p * q1.conjugate()\n",
    "p2.vector"
   ]
  },
  {
   "cell_type": "markdown",
   "id": "708374d6",
   "metadata": {},
   "source": [
    "Zurückdrehen"
   ]
  },
  {
   "cell_type": "code",
   "execution_count": 14,
   "id": "531293c8",
   "metadata": {},
   "outputs": [
    {
     "data": {
      "text/plain": [
       "array([1., 2., 3.])"
      ]
     },
     "execution_count": 14,
     "metadata": {},
     "output_type": "execute_result"
    }
   ],
   "source": [
    "qinv = q1.inv()\n",
    "\n",
    "q3 = qinv * p2 * qinv.conjugate()\n",
    "q3.vector"
   ]
  },
  {
   "cell_type": "markdown",
   "id": "e281b6cf",
   "metadata": {},
   "source": [
    "Was gibt $W^\\intercal(p) \\cdot Q(p) = ?$ "
   ]
  },
  {
   "cell_type": "code",
   "execution_count": 15,
   "id": "dadcad4d",
   "metadata": {},
   "outputs": [
    {
     "data": {
      "text/plain": [
       "array([[ 0.8660254 , -0.3       ,  0.4       , -0.        ],\n",
       "       [ 0.3       ,  0.95176915,  0.06430781, -0.        ],\n",
       "       [-0.4       ,  0.06430781,  0.91425626,  0.        ],\n",
       "       [ 0.        , -0.        ,  0.        ,  1.        ]])"
      ]
     },
     "execution_count": 15,
     "metadata": {},
     "output_type": "execute_result"
    }
   ],
   "source": [
    "(q1.as_W().T @ q1.as_Q()).round(8)"
   ]
  },
  {
   "cell_type": "code",
   "execution_count": 16,
   "id": "0ce575c8",
   "metadata": {},
   "outputs": [
    {
     "data": {
      "text/plain": [
       "array([[ 0.8660254 , -0.3       ,  0.4       ],\n",
       "       [ 0.3       ,  0.95176915,  0.06430781],\n",
       "       [-0.4       ,  0.06430781,  0.91425626]])"
      ]
     },
     "execution_count": 16,
     "metadata": {},
     "output_type": "execute_result"
    }
   ],
   "source": [
    "q1.as_matrix()"
   ]
  },
  {
   "cell_type": "code",
   "execution_count": 17,
   "id": "689e6a94",
   "metadata": {},
   "outputs": [
    {
     "data": {
      "text/plain": [
       "array([[ 0.96592583, -0.15529143,  0.20705524,  0.        ],\n",
       "       [ 0.15529143,  0.96592583,  0.        ,  0.20705524],\n",
       "       [-0.20705524,  0.        ,  0.96592583,  0.15529143],\n",
       "       [-0.        , -0.20705524, -0.15529143,  0.96592583]])"
      ]
     },
     "execution_count": 17,
     "metadata": {},
     "output_type": "execute_result"
    }
   ],
   "source": [
    "q1.as_Q()"
   ]
  },
  {
   "cell_type": "markdown",
   "id": "a2078ab7",
   "metadata": {},
   "source": [
    "## Vergleich mit Scipy Rotaton"
   ]
  },
  {
   "cell_type": "code",
   "execution_count": 18,
   "id": "f2e209ff",
   "metadata": {},
   "outputs": [],
   "source": [
    "from scipy.spatial.transform import Rotation as R"
   ]
  },
  {
   "cell_type": "code",
   "execution_count": 19,
   "id": "23be3110",
   "metadata": {},
   "outputs": [],
   "source": [
    "r1 = R.from_quat(q1.array)\n",
    "r2 = R.from_quat(q2.array)"
   ]
  },
  {
   "cell_type": "code",
   "execution_count": 20,
   "id": "ceea0c2a",
   "metadata": {},
   "outputs": [
    {
     "data": {
      "text/plain": [
       "array([[ 0.8660254 , -0.3       ,  0.4       ],\n",
       "       [ 0.3       ,  0.95176915,  0.06430781],\n",
       "       [-0.4       ,  0.06430781,  0.91425626]])"
      ]
     },
     "execution_count": 20,
     "metadata": {},
     "output_type": "execute_result"
    }
   ],
   "source": [
    "r1.as_matrix()"
   ]
  },
  {
   "cell_type": "code",
   "execution_count": 21,
   "id": "70717e6f",
   "metadata": {},
   "outputs": [
    {
     "data": {
      "text/plain": [
       "array([0.07923661, 0.19129409, 0.51311438, 0.83297164])"
      ]
     },
     "execution_count": 21,
     "metadata": {},
     "output_type": "execute_result"
    }
   ],
   "source": [
    "r3 = r1 * r2 \n",
    "r3.as_quat()"
   ]
  },
  {
   "cell_type": "code",
   "execution_count": 22,
   "id": "95e394d4",
   "metadata": {},
   "outputs": [
    {
     "data": {
      "text/plain": [
       "array([1.4660254 , 2.39646171, 2.47138439])"
      ]
     },
     "execution_count": 22,
     "metadata": {},
     "output_type": "execute_result"
    }
   ],
   "source": [
    "r1.apply(point)"
   ]
  },
  {
   "cell_type": "code",
   "execution_count": null,
   "id": "42679ccf",
   "metadata": {},
   "outputs": [],
   "source": []
  }
 ],
 "metadata": {
  "kernelspec": {
   "display_name": "forge",
   "language": "python",
   "name": "forge"
  },
  "language_info": {
   "codemirror_mode": {
    "name": "ipython",
    "version": 3
   },
   "file_extension": ".py",
   "mimetype": "text/x-python",
   "name": "python",
   "nbconvert_exporter": "python",
   "pygments_lexer": "ipython3",
   "version": "3.10.16"
  }
 },
 "nbformat": 4,
 "nbformat_minor": 5
}
